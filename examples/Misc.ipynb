{
 "cells": [
  {
   "cell_type": "markdown",
   "metadata": {},
   "source": [
    "# Misc\n",
    "This notebook demonstrates Misc examples"
   ]
  },
  {
   "cell_type": "markdown",
   "metadata": {},
   "source": [
    "## Line Intersect\n",
    "Takes any LineString or Polygon GeoJSON and returns the intersecting point(s)."
   ]
  },
  {
   "cell_type": "code",
   "execution_count": null,
   "metadata": {},
   "outputs": [],
   "source": [
    "from geojson import LineString, Feature\n",
    "from turfpy.misc import line_intersect\n",
    "l1 = Feature(geometry=LineString([[126, -11], [129, -21]]))\n",
    "l2 = Feature(geometry=LineString([[123, -18], [131, -14]]))\n",
    "line_intersect(l1, l2)"
   ]
  },
  {
   "cell_type": "markdown",
   "metadata": {},
   "source": [
    "## Line Segment\n",
    "Creates a FeatureCollection of 2-vertex LineString segments from a (Multi)LineString or (Multi)Polygon."
   ]
  },
  {
   "cell_type": "code",
   "execution_count": null,
   "metadata": {},
   "outputs": [],
   "source": [
    "from turfpy.misc import line_segment\n",
    "\n",
    "poly = {\n",
    "      \"type\": \"Feature\",\n",
    "      \"properties\": {},\n",
    "      \"geometry\": {\n",
    "        \"type\": \"Polygon\",\n",
    "        \"coordinates\": [\n",
    "          [\n",
    "            [\n",
    "              51.17431640625,\n",
    "              47.025206001585396\n",
    "            ],\n",
    "            [\n",
    "              45.17578125,\n",
    "              43.13306116240612\n",
    "            ],\n",
    "            [\n",
    "              54.5361328125,\n",
    "              41.85319643776675\n",
    "            ],\n",
    "            [\n",
    "              51.17431640625,\n",
    "              47.025206001585396\n",
    "            ]\n",
    "          ]\n",
    "        ]\n",
    "      }\n",
    "}\n",
    "\n",
    "line_segment(poly)"
   ]
  }
 ],
 "metadata": {
  "kernelspec": {
   "display_name": "Python 3",
   "language": "python",
   "name": "python3"
  },
  "language_info": {
   "codemirror_mode": {
    "name": "ipython",
    "version": 3
   },
   "file_extension": ".py",
   "mimetype": "text/x-python",
   "name": "python",
   "nbconvert_exporter": "python",
   "pygments_lexer": "ipython3",
   "version": "3.7.3"
  }
 },
 "nbformat": 4,
 "nbformat_minor": 4
}
