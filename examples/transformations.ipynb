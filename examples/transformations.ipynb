{
 "cells": [
  {
   "cell_type": "markdown",
   "metadata": {},
   "source": [
    "# Transformation\n",
    "This notebook demonstrates all the examples of transformation"
   ]
  },
  {
   "cell_type": "markdown",
   "metadata": {},
   "source": [
    "## Circle\n",
    "Takes a Point and calculates the circle polygon given a radius in degrees, radians, miles, or kilometers; and steps for precision."
   ]
  },
  {
   "cell_type": "code",
   "execution_count": null,
   "metadata": {},
   "outputs": [],
   "source": [
    "from geojson import Feature, Point\n",
    "from turfpy.transformation import circle\n",
    "\n",
    "center = Feature(geometry=Point((19.0760, 72.8777)))\n",
    "circle(center, radius=5, steps=10)"
   ]
  },
  {
   "cell_type": "markdown",
   "metadata": {},
   "source": [
    "## Bbox clip\n",
    "Takes a Feature or geometry and a bbox and clips the feature to the bbox."
   ]
  },
  {
   "cell_type": "code",
   "execution_count": null,
   "metadata": {},
   "outputs": [],
   "source": [
    "from turfpy.transformation import bbox_clip\n",
    "from geojson import Feature\n",
    "f = Feature(geometry={\"coordinates\": [[[2, 2], [8, 4],\n",
    "[12, 8], [3, 7], [2, 2]]], \"type\": \"Polygon\"})\n",
    "bbox = [0, 0, 10, 10]\n",
    "bbox_clip(f, bbox)"
   ]
  },
  {
   "cell_type": "markdown",
   "metadata": {},
   "source": [
    "## Bezie spline\n",
    "Takes a line and returns a curved version by applying a Bezier spline algorithm."
   ]
  },
  {
   "cell_type": "code",
   "execution_count": null,
   "metadata": {},
   "outputs": [],
   "source": [
    "from geojson import LineString, Feature\n",
    "from turfpy.transformation import bezie_spline\n",
    "ls = LineString([(-76.091308, 18.427501),\n",
    "                    (-76.695556, 18.729501),\n",
    "                    (-76.552734, 19.40443),\n",
    "                    (-74.61914, 19.134789),\n",
    "                    (-73.652343, 20.07657),\n",
    "                    (-73.157958, 20.210656)])\n",
    "f = Feature(geometry=ls)\n",
    "bezie_spline(f)"
   ]
  },
  {
   "cell_type": "markdown",
   "metadata": {},
   "source": [
    "## Concave Hull\n",
    "Generate concave hull for the given feature or Feature Collection."
   ]
  },
  {
   "cell_type": "code",
   "execution_count": null,
   "metadata": {},
   "outputs": [],
   "source": [
    "from turfpy.transformation import concave\n",
    "from geojson import FeatureCollection, Feature, Point\n",
    "f1 = Feature(geometry=Point((-63.601226, 44.642643)))\n",
    "f2 = Feature(geometry=Point((-63.591442, 44.651436)))\n",
    "f3 = Feature(geometry=Point((-63.580799, 44.648749)))\n",
    "f4 = Feature(geometry=Point((-63.573589, 44.641788)))\n",
    "f5 = Feature(geometry=Point((-63.587665, 44.64533)))\n",
    "f6 = Feature(geometry=Point((-63.595218, 44.64765)))\n",
    "fc = [f1, f2, f3, f4, f5, f6]\n",
    "concave(FeatureCollection(fc), alpha=100)"
   ]
  },
  {
   "cell_type": "markdown",
   "metadata": {},
   "source": [
    "## Convex Hull\n",
    "Generate convex hull for the given feature or Feature Collection."
   ]
  },
  {
   "cell_type": "code",
   "execution_count": null,
   "metadata": {},
   "outputs": [],
   "source": [
    "from turfpy.transformation import convex\n",
    "from geojson import FeatureCollection, Feature, Point\n",
    "f1 = Feature(geometry=Point((10.195312, 43.755225)))\n",
    "f2 = Feature(geometry=Point((10.404052, 43.8424511)))\n",
    "f3 = Feature(geometry=Point((10.579833, 43.659924)))\n",
    "f4 = Feature(geometry=Point((10.360107, 43.516688)))\n",
    "f5 = Feature(geometry=Point((10.14038, 43.588348)))\n",
    "f6 = Feature(geometry=Point((10.195312, 43.755225)))\n",
    "fc = [f1, f2, f3, f4, f5, f6]\n",
    "convex(FeatureCollection(fc))"
   ]
  },
  {
   "cell_type": "markdown",
   "metadata": {},
   "source": [
    "## Intersect\n",
    "Takes polygons and finds their intersection."
   ]
  },
  {
   "cell_type": "code",
   "execution_count": null,
   "metadata": {},
   "outputs": [],
   "source": [
    "from turfpy.transformation import intersect\n",
    "from geojson import Feature\n",
    "f = Feature(geometry={\"coordinates\": [\n",
    "[[-122.801742, 45.48565], [-122.801742, 45.60491],\n",
    "[-122.584762, 45.60491], [-122.584762, 45.48565],\n",
    "[-122.801742, 45.48565]]], \"type\": \"Polygon\"})\n",
    "b = Feature(geometry={\"coordinates\": [\n",
    "[[-122.520217, 45.535693], [-122.64038, 45.553967],\n",
    "[-122.720031, 45.526554], [-122.669906, 45.507309],\n",
    "[-122.723464, 45.446643], [-122.532577, 45.408574],\n",
    "[-122.487258, 45.477466], [-122.520217, 45.535693]\n",
    "]], \"type\": \"Polygon\"})\n",
    "intersect([f, b])"
   ]
  },
  {
   "cell_type": "markdown",
   "metadata": {},
   "source": [
    "## Union\n",
    "Given list of features or FeatureCollection return union of those."
   ]
  },
  {
   "cell_type": "code",
   "execution_count": null,
   "metadata": {},
   "outputs": [],
   "source": [
    "from turfpy.transformation import union\n",
    "from geojson import Feature, Polygon, FeatureCollection\n",
    "f1 = Feature(geometry=Polygon([[\n",
    "    [-82.574787, 35.594087],\n",
    "    [-82.574787, 35.615581],\n",
    "    [-82.545261, 35.615581],\n",
    "    [-82.545261, 35.594087],\n",
    "     [-82.574787, 35.594087]\n",
    "]]), properties={\"fill\": \"#00f\"})\n",
    "f2 = Feature(geometry=Polygon([[\n",
    "    [-82.560024, 35.585153],\n",
    "    [-82.560024, 35.602602],\n",
    "    [-82.52964, 35.602602],\n",
    "    [-82.52964, 35.585153],\n",
    "    [-82.560024, 35.585153]]]), properties={\"fill\": \"#00f\"})\n",
    "union(FeatureCollection([f1, f2], properties={\"combine\": \"yes\"}))"
   ]
  },
  {
   "cell_type": "markdown",
   "metadata": {},
   "source": [
    "## Dissolve\n",
    "Take FeatureCollection or list of features to dissolve based on property_name provided."
   ]
  },
  {
   "cell_type": "code",
   "execution_count": null,
   "metadata": {},
   "outputs": [],
   "source": [
    "from geojson import Polygon, Feature, FeatureCollection\n",
    "from turfpy.transformation import dissolve\n",
    "f1 = Feature(geometry=Polygon([[\n",
    "    [0, 0],\n",
    "    [0, 1],\n",
    "    [1, 1],\n",
    "    [1, 0],\n",
    "    [0, 0]]]), properties={\"combine\": \"yes\", \"fill\": \"#00f\"})\n",
    "f2 = Feature(geometry=Polygon([[\n",
    "    [0, -1],\n",
    "    [0, 0],\n",
    "    [1, 0],\n",
    "    [1, -1],\n",
    "    [0,-1]]]), properties={\"combine\": \"yes\"})\n",
    "f3 = Feature(geometry=Polygon([[\n",
    "    [1,-1],\n",
    "    [1, 0],\n",
    "    [2, 0],\n",
    "    [2, -1],\n",
    "    [1, -1]]]), properties={\"combine\": \"no\"})\n",
    "dissolve(FeatureCollection([f1, f2, f3]), property_name='combine')"
   ]
  },
  {
   "cell_type": "markdown",
   "metadata": {},
   "source": [
    "## Difference\n",
    "Find the difference between given two features."
   ]
  },
  {
   "cell_type": "code",
   "execution_count": null,
   "metadata": {},
   "outputs": [],
   "source": [
    "from geojson import Polygon, Feature\n",
    "from turfpy.transformation import difference\n",
    "f1 = Feature(geometry=Polygon([[\n",
    "    [128, -26],\n",
    "    [141, -26],\n",
    "    [141, -21],\n",
    "    [128, -21],\n",
    "    [128, -26]]]), properties={\"combine\": \"yes\", \"fill\": \"#00f\"})\n",
    "f2 = Feature(geometry=Polygon([[\n",
    "    [126, -28],\n",
    "    [140, -28],\n",
    "    [140, -20],\n",
    "    [126, -20],\n",
    "    [126, -28]]]), properties={\"combine\": \"yes\"})\n",
    "difference(f1, f2)"
   ]
  },
  {
   "cell_type": "markdown",
   "metadata": {},
   "source": [
    "## Transform Rotate\n",
    "Rotates any geojson Feature or Geometry of a specified angle, around its centroid or a given pivot point; all rotations follow the right-hand rule"
   ]
  },
  {
   "cell_type": "code",
   "execution_count": null,
   "metadata": {},
   "outputs": [],
   "source": [
    "from turfpy.transformation import transform_rotate\n",
    "from geojson import Polygon, Feature\n",
    "f = Feature(geometry=Polygon([[[0,29],[3.5,29],[2.5,32],[0,29]]]))\n",
    "pivot = [0, 25]\n",
    "transform_rotate(f, 10, pivot)"
   ]
  },
  {
   "cell_type": "code",
   "execution_count": null,
   "metadata": {},
   "outputs": [],
   "source": [
    "from ipyleaflet import Map, GeoJSON, LayersControl\n",
    "\n",
    "original = GeoJSON(name='Original', data=f)\n",
    "\n",
    "rotated = GeoJSON(name='Roatated', data=transform_rotate(f, 10, pivot), style={'color': 'red'})\n",
    "\n",
    "m = Map(center=[30.18519925274955, 2.939529418945313], zoom=5)\n",
    "\n",
    "m.add_layer(original)\n",
    "m.add_layer(rotated)\n",
    "\n",
    "control = LayersControl(position='topright')\n",
    "m.add_control(control)\n",
    "m"
   ]
  },
  {
   "cell_type": "markdown",
   "metadata": {},
   "source": [
    "## Transform Translate\n",
    "Moves any geojson Feature or Geometry of a specified distance along a Rhumb Line on the provided direction angle."
   ]
  },
  {
   "cell_type": "code",
   "execution_count": null,
   "metadata": {},
   "outputs": [],
   "source": [
    "from turfpy.transformation import transform_translate\n",
    "from geojson import Polygon, Feature\n",
    "f = Feature(geometry=Polygon([[[0,29],[3.5,29],[2.5,32],[0,29]]]))\n",
    "transform_translate(f, 100, 35, mutate=True)"
   ]
  },
  {
   "cell_type": "code",
   "execution_count": null,
   "metadata": {},
   "outputs": [],
   "source": [
    "from ipyleaflet import Map, GeoJSON, LayersControl\n",
    "\n",
    "original = GeoJSON(name='Original', data=f)\n",
    "\n",
    "rotated = GeoJSON(name='Translated', data=transform_translate(f, 100, 35, mutate=True), style={'color': 'red'})\n",
    "\n",
    "m = Map(center=[30.18519925274955, 2.939529418945313], zoom=5)\n",
    "\n",
    "m.add_layer(original)\n",
    "m.add_layer(rotated)\n",
    "\n",
    "control = LayersControl(position='topright')\n",
    "m.add_control(control)\n",
    "m"
   ]
  },
  {
   "cell_type": "markdown",
   "metadata": {},
   "source": [
    "## Transform Scale\n",
    "Scale a GeoJSON from a given point by a factor of scaling (ex: factor=2 would make the GeoJSON 200% larger).\n",
    "If a FeatureCollection is provided, the origin\n",
    "point will be calculated based on each individual Feature."
   ]
  },
  {
   "cell_type": "code",
   "execution_count": null,
   "metadata": {},
   "outputs": [],
   "source": [
    "from turfpy.transformation import transform_scale\n",
    "from geojson import Polygon, Feature\n",
    "f = Feature(geometry=Polygon([[[0,29],[3.5,29],[2.5,32],[0,29]]]))\n",
    "transform_scale(f, 3, origin=[0, 29])"
   ]
  },
  {
   "cell_type": "code",
   "execution_count": null,
   "metadata": {},
   "outputs": [],
   "source": [
    "from ipyleaflet import Map, GeoJSON, LayersControl\n",
    "\n",
    "original = GeoJSON(name='Original', data=f)\n",
    "\n",
    "rotated = GeoJSON(name='Sacled', data=transform_scale(f, 3, origin=[0, 29]), style={'color': 'red'})\n",
    "\n",
    "m = Map(center=[33.52608402076209, 7.55413055419922], zoom=5)\n",
    "\n",
    "m.add_layer(original)\n",
    "m.add_layer(rotated)\n",
    "\n",
    "control = LayersControl(position='topright')\n",
    "m.add_control(control)\n",
    "m"
   ]
  },
  {
   "cell_type": "markdown",
   "metadata": {},
   "source": [
    "## Tesselate\n",
    "Tesselates a Feature into a FeatureCollection of triangles using earcut."
   ]
  },
  {
   "cell_type": "code",
   "execution_count": null,
   "metadata": {},
   "outputs": [],
   "source": [
    "from geojson import Feature\n",
    "from turfpy.transformation import tesselate\n",
    "\n",
    "f = Feature(\n",
    "        geometry={\n",
    "            \"coordinates\": [\n",
    "                [[11, 0], [22, 4], [31, 0], [31, 11], [21, 15], [11, 11], [11, 0]]\n",
    "            ],\n",
    "            \"type\": \"Polygon\",\n",
    "        }\n",
    "    )\n"
   ]
  },
  {
   "cell_type": "code",
   "execution_count": null,
   "metadata": {},
   "outputs": [],
   "source": [
    "# Original Polygon \n",
    "\n",
    "from ipyleaflet import Map, GeoJSON\n",
    "\n",
    "m = Map(center=(4.595931675360621, 29.52129364013672), zoom=4)\n",
    "geo_json = GeoJSON(\n",
    "    data=f,\n",
    "    style={\"opacity\": 1, \"fillOpacity\": 0.3, \"weight\": 1},\n",
    "    hover_style={\"color\": \"green\", \"dashArray\": \"0\", \"fillOpacity\": 0.5},\n",
    ")\n",
    "m.add_layer(geo_json)\n",
    "m"
   ]
  },
  {
   "cell_type": "code",
   "execution_count": null,
   "metadata": {},
   "outputs": [],
   "source": [
    "# Feature collection returned by tesselate \n",
    "\n",
    "result = tesselate(f)\n"
   ]
  },
  {
   "cell_type": "code",
   "execution_count": null,
   "metadata": {},
   "outputs": [],
   "source": [
    "from ipyleaflet import Map, GeoJSON\n",
    "\n",
    "m = Map(center=(4.595931675360621, 29.52129364013672), zoom=4)\n",
    "geo_json = GeoJSON(\n",
    "    data=result,\n",
    "    style={\"opacity\": 1, \"fillOpacity\": 0.3, \"weight\": 1},\n",
    "    hover_style={\"color\": \"green\", \"dashArray\": \"0\", \"fillOpacity\": 0.5},\n",
    ")\n",
    "m.add_layer(geo_json)\n",
    "m"
   ]
  },
  {
   "cell_type": "markdown",
   "metadata": {},
   "source": [
    "## Line Offset\n",
    "Takes a linestring or multilinestring and returns a line at offset by the specified distance."
   ]
  },
  {
   "cell_type": "code",
   "execution_count": null,
   "metadata": {},
   "outputs": [],
   "source": [
    "from geojson import MultiLineString, Feature\n",
    "from turfpy.transformation import line_offset\n",
    "ls = Feature(geometry=MultiLineString([\n",
    "     [(3.75, 9.25), (-130.95, 1.52)],\n",
    "     [(23.15, -34.25), (-1.35, -4.65), (3.45, 77.95)]\n",
    " ]))\n",
    "line_offset(ls, 2, unit='mi')"
   ]
  },
  {
   "cell_type": "code",
   "execution_count": null,
   "metadata": {},
   "outputs": [],
   "source": [
    "from ipyleaflet import Map, GeoJSON, LayersControl\n",
    "\n",
    "original = GeoJSON(name='Original', data=ls)\n",
    "\n",
    "rotated = GeoJSON(name='Offset Line', data=line_offset(ls, 2, unit='mi'), style={'color': 'red'})\n",
    "\n",
    "m = Map(center=[33.54139466898275, 7.536621093750001], zoom=1)\n",
    "\n",
    "m.add_layer(original)\n",
    "m.add_layer(rotated)\n",
    "\n",
    "control = LayersControl(position='topright')\n",
    "m.add_control(control)\n",
    "m"
   ]
  },
  {
   "cell_type": "markdown",
   "metadata": {},
   "source": [
    "## voronoi\n",
    "Takes a FeatureCollection of points, and a bounding box, and returns a FeatureCollection of Voronoi polygons."
   ]
  },
  {
   "cell_type": "code",
   "execution_count": null,
   "metadata": {},
   "outputs": [],
   "source": [
    "from turfpy.transformation import voronoi\n",
    "\n",
    "points = [\n",
    "    [-66.97035175371198, 40.318345269995234],\n",
    "    [-63.776304623759685, 40.45001590163247],\n",
    "    [-65.41960483851452, 42.13985310302137],\n",
    "    [-69.58133775268497, 43.95405461286195],\n",
    "    [-65.66337553550034, 55.97088945355232],\n",
    "    [-60.280418548905, 56.240669185466146],\n",
    "    [-68.5129561347689, 50.12984589640148],\n",
    "    [-64.2393519226657, 59.66235385923687],\n",
    "    [-60.90340080176197, 47.319854339485836],\n",
    "    [-64.013392235184, 47.48505628754743],\n",
    "    [-63.5901237814622, 56.435271304519375],\n",
    "    [-65.29273842230272, 40.46532951990474],\n",
    "    [-64.34074762923518, 44.41467903845307],\n",
    "    [-62.75238118105902, 50.232555998274044],\n",
    "    [-66.39216606663494, 42.05774847944996],\n",
    "    [-69.4747201276131, 43.288490094187104],\n",
    "    [-60.22111554327566, 53.23070074089705],\n",
    "    [-68.38456573407701, 58.12528229586756],\n",
    "    [-60.022015858921954, 57.16751878858943],\n",
    "    [-67.27241103543064, 46.52814784233641],\n",
    "    [-68.44640005497628, 49.31604545534581],\n",
    "    [-63.19928242836677, 40.397501696572654],\n",
    "    [-69.75867935840617, 45.47856756289996],\n",
    "    [-61.32766380696367, 58.672721168560955],\n",
    "    [-67.52671607410451, 55.62959559068972],\n",
    "    [-64.05030735753337, 56.19827268873002],\n",
    "    [-65.20026060312107, 52.91890866887687],\n",
    "    [-63.02174849203104, 45.34033157319018],\n",
    "    [-62.33913739166953, 43.46950736683852],\n",
    "    [-68.70183827840249, 51.16845764645581],\n",
    "    [-66.20557198738521, 45.61818662858589],\n",
    "    [-67.06923935761512, 56.49552328077417],\n",
    "    [-68.45745370027925, 53.01501887198211],\n",
    "    [-61.230713576641044, 56.183690218293776],\n",
    "    [-61.366266080040376, 45.09667176473487],\n",
    "    [-68.40160283717302, 51.22288379742737],\n",
    "    [-65.91059565227219, 46.12828610239469],\n",
    "    [-69.24685336802877, 58.04159904298512],\n",
    "    [-67.90746049167338, 51.458754170538626],\n",
    "    [-64.69458939381633, 43.50862977964408],\n",
    "    [-69.67707467644576, 55.13014562401008],\n",
    "    [-67.86563100693668, 44.71454319618893],\n",
    "    [-67.64200780701925, 45.346156738904824],\n",
    "    [-62.784041537868234, 44.021481858972024],\n",
    "    [-69.46030604589015, 50.77927933384373],\n",
    "    [-67.47301069491814, 57.20749222445842],\n",
    "    [-63.63826397952049, 43.06756343494853],\n",
    "    [-65.03421426631598, 58.607691301001665],\n",
    "    [-61.42694866295021, 44.01728814041832],\n",
    "    [-65.27780516075711, 49.1577380024088],\n",
    "    [-63.22809792736968, 54.75459925926561],\n",
    "    [-65.75164600671681, 50.444095477144174],\n",
    "    [-66.53391928446148, 46.81946313004039],\n",
    "    [-61.17532370859516, 56.490308715502884],\n",
    "    [-62.82596239604844, 47.62933849172895],\n",
    "    [-67.91427680286654, 50.002068640008446],\n",
    "    [-68.8281390917315, 41.624594548778255],\n",
    "    [-62.324565557935586, 54.36070911572615],\n",
    "    [-67.79789775299722, 54.032762733269294],\n",
    "    [-69.90721635010229, 42.53005065790635],\n",
    "    [-64.09218727436058, 44.21747980258202],\n",
    "    [-65.45745182285232, 41.92888759186806],\n",
    "    [-64.89743431251524, 56.02354218555687],\n",
    "    [-62.74330413423213, 49.851812304102474],\n",
    "    [-69.01724834169485, 43.86098277913519],\n",
    "    [-65.08442833608343, 49.05799844118643],\n",
    "    [-60.117926604673414, 42.56576378184112],\n",
    "    [-63.380264668516965, 58.718930212178506],\n",
    "    [-69.58981710789907, 56.45741811079546],\n",
    "    [-69.34434256360679, 55.54353852333105],\n",
    "    [-68.96303460007613, 58.368441094579225],\n",
    "    [-60.499978235077876, 58.04095533357255],\n",
    "    [-64.48228884995504, 52.67791964667544],\n",
    "    [-63.28389119770206, 51.760879575173384],\n",
    "    [-67.75617507537125, 43.75912562117327],\n",
    "    [-68.00927728902863, 45.671594734286614],\n",
    "    [-63.36784409964047, 44.10569333994948],\n",
    "    [-65.58756228301353, 54.97295500158505],\n",
    "    [-67.37277146991484, 56.476728117598626],\n",
    "    [-68.10830042153275, 55.72080967470162],\n",
    "    [-69.12830174563588, 45.58632852197277],\n",
    "    [-64.6315835789136, 51.88413518274077],\n",
    "    [-67.75853090943711, 58.587494282518776],\n",
    "    [-61.45846709902253, 53.270601672273],\n",
    "    [-61.903530354456734, 57.98191726730208],\n",
    "    [-65.81769750926455, 42.034979844034275],\n",
    "    [-64.2364381676968, 51.762721823182545],\n",
    "    [-69.75124251822547, 50.065087854580355],\n",
    "    [-62.624081650070146, 49.81702630730683],\n",
    "    [-64.44355690073627, 59.06794579492187],\n",
    "    [-68.55204564864789, 55.336271363856184],\n",
    "    [-63.25564507829077, 50.6046345112907],\n",
    "    [-63.81456104951526, 40.8486627152392],\n",
    "    [-64.37015352762566, 58.00983759616774],\n",
    "    [-61.870172642975895, 59.15750997986467],\n",
    "    [-60.02123672191712, 56.074643702400614],\n",
    "    [-60.11304594655109, 43.241774996887635],\n",
    "    [-66.18978478841018, 53.56622582843157],\n",
    "    [-63.92923317441267, 54.78528722989218],\n",
    "    [-62.48536066011403, 54.50280730402256],\n",
    "]\n",
    "bbox = [-70, 40, -60, 60]\n",
    "result = voronoi(points, bbox)"
   ]
  },
  {
   "cell_type": "code",
   "execution_count": null,
   "metadata": {},
   "outputs": [],
   "source": [
    "from ipyleaflet import Map, GeoJSON, LayersControl, Marker\n",
    "\n",
    "\n",
    "m = Map(center=[51.833656018902175, -64.83547210693361], zoom=4)\n",
    "\n",
    "for point in points:\n",
    "    marker = Marker(location=[point[1], point[0]])\n",
    "    m.add_layer(marker)\n",
    "\n",
    "vor = GeoJSON(name=\"Original\", data=result, style={\"color\": \"green\"})\n",
    "m.add_layer(vor)\n",
    "m"
   ]
  }
 ],
 "metadata": {
  "kernelspec": {
   "display_name": "Python 3",
   "language": "python",
   "name": "python3"
  },
  "language_info": {
   "codemirror_mode": {
    "name": "ipython",
    "version": 3
   },
   "file_extension": ".py",
   "mimetype": "text/x-python",
   "name": "python",
   "nbconvert_exporter": "python",
   "pygments_lexer": "ipython3",
   "version": "3.8.5"
  }
 },
 "nbformat": 4,
 "nbformat_minor": 4
}
